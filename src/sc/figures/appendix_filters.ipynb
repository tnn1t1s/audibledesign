import numpy as np
import matplotlib.pyplot as plt

def high_pass_filter(freq, cutoff, order=1):
    return 1 - 1 / (1 + (freq / cutoff)**(2*order))

def low_pass_filter(freq, cutoff, order=1):
    return 1 / (1 + (freq / cutoff)**(2*order))

def band_pass_filter(freq, low_cutoff, high_cutoff, order=1):
    return high_pass_filter(freq, low_cutoff, order) * low_pass_filter(freq, high_cutoff, order)

def band_reject_filter(freq, low_cutoff, high_cutoff, order=1):
    return 1 - band_pass_filter(freq, low_cutoff, high_cutoff, order)

def filter_bank(freq, cutoffs, order=1):
    filters = [band_pass_filter(freq, cutoffs[i], cutoffs[i+1], order) for i in range(len(cutoffs)-1)]
    return np.array(filters)

# Set up the frequency bands
freq_bands = np.logspace(1, 3, 16)  # 16 bands from 10 Hz to 1000 Hz

# Set up the plot
fig, axs = plt.subplots(5, 2, figsize=(12, 20))
fig.suptitle('FILTERS', fontsize=16)

# High Pass Filter
cutoff = 100
response = high_pass_filter(freq_bands, cutoff)
axs[0, 0].set_title('HIGH PASS FILTER')
axs[0, 0].set_xscale('log')
axs[0, 0].vlines(freq_bands, ymin=0, ymax=response, colors='b', linewidth=2)
axs[0, 0].plot(freq_bands, response, 'r--')
axs[0, 1].set_xscale('log')
axs[0, 1].vlines(freq_bands, ymin=0, ymax=response, colors='b', linewidth=2)

# Low Pass Filter
cutoff = 300
response = low_pass_filter(freq_bands, cutoff)
axs[1, 0].set_title('LOW PASS FILTER')
axs[1, 0].set_xscale('log')
axs[1, 0].vlines(freq_bands, ymin=0, ymax=response, colors='b', linewidth=2)
axs[1, 0].plot(freq_bands, response, 'r--')
axs[1, 1].set_xscale('log')
axs[1, 1].vlines(freq_bands, ymin=0, ymax=response, colors='b', linewidth=2)

# Band Pass Filter
low_cutoff, high_cutoff = 100, 300
response = band_pass_filter(freq_bands, low_cutoff, high_cutoff)
axs[2, 0].set_title('BAND PASS FILTER')
axs[2, 0].set_xscale('log')
axs[2, 0].vlines(freq_bands, ymin=0, ymax=response, colors='b', linewidth=2)
axs[2, 0].plot(freq_bands, response, 'r--')
axs[2, 1].set_xscale('log')
axs[2, 1].vlines(freq_bands, ymin=0, ymax=response, colors='b', linewidth=2)

# Band Reject Filter
low_cutoff, high_cutoff = 100, 300
response = band_reject_filter(freq_bands, low_cutoff, high_cutoff)
axs[3, 0].set_title('BAND REJECT or NOTCH FILTER')
axs[3, 0].set_xscale('log')
axs[3, 0].vlines(freq_bands, ymin=0, ymax=response, colors='b', linewidth=2)
axs[3, 0].plot(freq_bands, response, 'r--')
axs[3, 1].set_xscale('log')
axs[3, 1].vlines(freq_bands, ymin=0, ymax=response, colors='b', linewidth=2)

# Filter Bank
cutoffs = np.logspace(1, 3, 6)  # 5 bands
response = filter_bank(freq_bands, cutoffs)
axs[4, 0].set_title('FILTER BANK')
axs[4, 0].set_xscale('log')
for r in response:
    axs[4, 0].vlines(freq_bands, ymin=0, ymax=r, colors='b', linewidth=2)
    axs[4, 0].plot(freq_bands, r, 'r--')
axs[4, 1].set_xscale('log')
axs[4, 1].vlines(freq_bands, ymin=0, ymax=response.sum(axis=0), colors='b', linewidth=2)

# General plot settings
for ax in axs.flat:
    ax.set_ylim(0, 1.1)
    ax.set_xlabel('frq')
    ax.set_ylabel('amp')
    ax.grid(True)

plt.tight_layout()
plt.show()
